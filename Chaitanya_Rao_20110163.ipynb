{
  "cells": [
    {
      "cell_type": "code",
      "execution_count": null,
      "metadata": {
        "id": "0O3uUBrm62m-"
      },
      "outputs": [],
      "source": [
        "import numpy as np\n",
        "import random as rm\n",
        "import timeit as tt\n",
        "import statistics as st\n",
        "import jax.numpy as jnp\n",
        "from jax import grad\n",
        "import matplotlib.pyplot as plt\n",
        "import pandas as pd\n",
        "import sympy as smp"
      ]
    },
    {
      "cell_type": "markdown",
      "metadata": {},
      "source": []
    },
    {
      "cell_type": "markdown",
      "metadata": {
        "id": "6pgMErNgiEQQ"
      },
      "source": [
        "**1. How many multiplications and additions do you need to perform a matrix multiplication between a (n, k) and (k, m) matrix? Explain.**"
      ]
    },
    {
      "cell_type": "markdown",
      "metadata": {
        "id": "xcxIIIhjNcyk"
      },
      "source": [
        "Number of multiplications = n.m.k\\\n",
        "Number of additions = n.m.(k-1)\\\n",
        "Every element in the resultant matrix is the dot product of row and column vector of length k. For which the number of multipcations is k and additions is (k-1). Therefore the total is this count times n.m. "
      ]
    },
    {
      "cell_type": "markdown",
      "metadata": {
        "id": "nH8ky6L8iXIZ"
      },
      "source": [
        "**2. Write Python code to multiply the above two matrices. Solve using list of lists and then use numpy. Compare the timing of both solutions. Which one is faster? Why?**"
      ]
    },
    {
      "cell_type": "code",
      "execution_count": null,
      "metadata": {
        "colab": {
          "base_uri": "https://localhost:8080/"
        },
        "id": "MIbhvGpzOrSr",
        "outputId": "1275d746-5354-4575-d722-74bb09fdefe1"
      },
      "outputs": [
        {
          "name": "stdout",
          "output_type": "stream",
          "text": [
            "a =  [[4, 7, 6, 1, 1, 7, 4, 3, 1, 3], [3, 6, 7, 4, 9, 3, 5, 7, 3, 2], [4, 7, 6, 2, 2, 5, 7, 8, 3, 4], [8, 1, 7, 2, 8, 7, 9, 9, 6, 3], [6, 6, 2, 2, 2, 8, 8, 7, 9, 7], [7, 8, 9, 1, 2, 2, 1, 5, 8, 2], [2, 4, 4, 6, 2, 2, 3, 3, 3, 8], [4, 7, 3, 3, 9, 6, 9, 5, 1, 6]]\n",
            "b = [[4, 4, 8, 3, 8, 4], [9, 3, 1, 7, 6, 7], [6, 8, 4, 1, 4, 6], [4, 6, 8, 6, 4, 7], [6, 4, 8, 2, 1, 6], [6, 8, 2, 2, 1, 5], [6, 5, 4, 2, 6, 9], [3, 5, 2, 8, 8, 2], [4, 9, 4, 1, 4, 1], [7, 4, 2, 4, 6, 2]]\n",
            "res1 =  [[225, 207, 125, 134, 180, 198], [273, 265, 218, 183, 226, 259], [271, 263, 169, 190, 255, 242], [307, 347, 271, 188, 289, 289], [312, 326, 206, 203, 292, 253], [249, 264, 178, 158, 238, 198], [211, 201, 150, 147, 186, 176], [314, 266, 221, 195, 247, 292]]\n",
            "res2 =  [[225 207 125 134 180 198]\n",
            " [273 265 218 183 226 259]\n",
            " [271 263 169 190 255 242]\n",
            " [307 347 271 188 289 289]\n",
            " [312 326 206 203 292 253]\n",
            " [249 264 178 158 238 198]\n",
            " [211 201 150 147 186 176]\n",
            " [314 266 221 195 247 292]]\n",
            "list method:  121.348 +/- 20.311  micro sec\n",
            "numpy method:  30.181 +/- 6.792  micro sec\n"
          ]
        }
      ],
      "source": [
        "n = 8\n",
        "k = 10\n",
        "m = 6\n",
        "\n",
        "# initializing matrices a and b\n",
        "a = []\n",
        "for i in range(n):\n",
        "  col = []\n",
        "  for j in range(k):\n",
        "    col.append(rm.randint(1,9))\n",
        "  a.append(col)\n",
        "\n",
        "b = []\n",
        "for i in range(k):\n",
        "  col = []\n",
        "  for j in range(m):\n",
        "    col.append(rm.randint(1,9))\n",
        "  b.append(col)\n",
        "\n",
        "# matrix to store the result \n",
        "c = []\n",
        "for i in range(n):\n",
        "  col = []\n",
        "  for j in range(m):\n",
        "    col.append(0)\n",
        "  c.append(col)\n",
        "\n",
        "time1 = []\n",
        "time2 = []\n",
        "\n",
        "# list method\n",
        "def f1(a,b,c):\n",
        "  for i in range (len(a)):\n",
        "    for j in range (len(b[0])):\n",
        "      for p in range (len(a[0])):\n",
        "        c[i][j] += a[i][p]*b[p][j]\n",
        "  return c\n",
        "\n",
        "# numpy method\n",
        "def f2(a,b):\n",
        "  return np.dot(a,b)\n",
        "\n",
        "print(\"a = \", a)\n",
        "print(\"b =\", b)\n",
        "print(\"res1 = \", f1(a,b,c))\n",
        "print(\"res2 = \", f2(a,b))\n",
        "\n",
        "for count in range(1000):\n",
        "  \n",
        "  for i in range(n):\n",
        "    for j in range(m):\n",
        "      c[i][j] = 0\n",
        "\n",
        "  t0 = tt.default_timer()\n",
        "  res1 = f1(a,b,c)\n",
        "  t1 = tt.default_timer()\n",
        "  time = (t1 - t0)*1000000\n",
        "  time1.append(time)\n",
        "\n",
        "\n",
        "  t0 = tt.default_timer() \n",
        "  res2 = f2(a,b)\n",
        "  t1 = tt.default_timer()\n",
        "  time = (t1 - t0)*1000000\n",
        "  time2.append(time)\n",
        "\n",
        "# average times\n",
        "ti1 = sum(time1)/len(time1)\n",
        "ti2 = sum(time2)/len(time2)\n",
        "ti1 = round(ti1,3)\n",
        "ti2 = round(ti2,3)\n",
        "\n",
        "# sd's\n",
        "sd1 = st.pstdev(time1)\n",
        "sd2 = st.pstdev(time2)\n",
        "sd1 = round(sd1,3)\n",
        "sd2 = round(sd2,3)\n",
        "\n",
        "print(\"list method: \", ti1,\"+/-\", sd1, \" micro sec\")\n",
        "print(\"numpy method: \", ti2,\"+/-\", sd2, \" micro sec\")\n"
      ]
    },
    {
      "cell_type": "markdown",
      "metadata": {
        "id": "ujlJq7K4idzc"
      },
      "source": [
        "Using numpy is faster because it can do the calculations in a parallel manner. Also most of the numpy library is written in C or C++ which makes it faster."
      ]
    },
    {
      "cell_type": "markdown",
      "metadata": {
        "id": "RCWEpeaDj5I3"
      },
      "source": [
        "**3. Finding the highest element in a list requires one pass of the array. Finding the second highest element requires 2 passes of the the array. Using this method, what is the time complexity of finding the median of the array? Can you suggest a better method? Can you implement both these methods in Python and compare against numpy.median routine in terms of time?**"
      ]
    },
    {
      "cell_type": "markdown",
      "metadata": {
        "id": "_Tn1KhWKk3eA"
      },
      "source": [
        "If the size of the array is n, then the time complexity of finding the median of the array will be O($n$^($\\lceil$$n$/2$\\rceil$)).\\\n",
        "A better method would be to sort the array in O($n$$log(n)$) time and then finding the middle element in O(1) time."
      ]
    },
    {
      "cell_type": "code",
      "execution_count": null,
      "metadata": {
        "colab": {
          "base_uri": "https://localhost:8080/"
        },
        "id": "qpRuQ88YJ03X",
        "outputId": "8a092bf2-5cc5-40b1-f69b-29b59b96e50e"
      },
      "outputs": [
        {
          "name": "stdout",
          "output_type": "stream",
          "text": [
            "49\n",
            "49\n",
            "49\n",
            "n//2 pass method:  7988.397 +/- 997.941  micro sec\n",
            "sort method:  7.119 +/- 3.236  micro sec\n",
            "numpy method:  171.455 +/- 96.155  micro sec\n"
          ]
        }
      ],
      "source": [
        "# assume odd length array\n",
        "num = []\n",
        "nu = 501\n",
        "for h in range(nu):\n",
        "  num.append(rm.randint(1,101))\n",
        "copy = num.copy()\n",
        "iter = nu//2\n",
        "\n",
        "# ceil(n/2) passes\n",
        "def f3(num):\n",
        "  for r in range(iter):\n",
        "    max = num[0]\n",
        "    for t in range(1,len(num)):\n",
        "      if num[t] > max:\n",
        "        max = num[t]\n",
        "    num.remove(max)\n",
        "  max = num[0]\n",
        "  for t in range(1,len(num)):\n",
        "    if num[t] > max:\n",
        "      max = num[t]\n",
        "  return max\n",
        "\n",
        "# sorting method\n",
        "def f4():\n",
        "  num.sort()\n",
        "  return num[iter]\n",
        "\n",
        "# numpy.median method\n",
        "def f5():\n",
        "  return np.median(num)\n",
        "  \n",
        "print(f3(copy))\n",
        "print(f4())\n",
        "print(int(f5()))\n",
        "\n",
        "time3 = []\n",
        "time4 = []\n",
        "time5 = []\n",
        "# time calculation\n",
        "for count in range(1000):\n",
        "  copy = num.copy()\n",
        "\n",
        "  t0 = tt.default_timer()\n",
        "  r3 = f3(copy)\n",
        "  t1 = tt.default_timer()\n",
        "  time = (t1 - t0)*1000000\n",
        "  time3.append(time)\n",
        "\n",
        "\n",
        "  t0 = tt.default_timer() \n",
        "  r4 = f4()\n",
        "  t1 = tt.default_timer()\n",
        "  time = (t1 - t0)*1000000\n",
        "  time4.append(time)\n",
        "\n",
        "  t0 = tt.default_timer() \n",
        "  r5 = f5()\n",
        "  t1 = tt.default_timer()\n",
        "  time = (t1 - t0)*1000000\n",
        "  time5.append(time)\n",
        "\n",
        "# average times\n",
        "ti3 = sum(time3)/len(time3)\n",
        "ti4 = sum(time4)/len(time4)\n",
        "ti5 = sum(time5)/len(time5)\n",
        "ti3 = round(ti3,3)\n",
        "ti4 = round(ti4,3)\n",
        "ti5 = round(ti5,3)\n",
        "# sd's\n",
        "sd3 = st.pstdev(time3)\n",
        "sd4 = st.pstdev(time4)\n",
        "sd5 = st.pstdev(time5)\n",
        "sd3 = round(sd3,3)\n",
        "sd4 = round(sd4,3)\n",
        "sd5 = round(sd5,3)\n",
        "\n",
        "print(\"n//2 pass method: \", ti3,\"+/-\", sd3, \" micro sec\")\n",
        "print(\"sort method: \", ti4,\"+/-\", sd4, \" micro sec\")\n",
        "print(\"numpy method: \", ti5,\"+/-\", sd5, \" micro sec\")"
      ]
    },
    {
      "cell_type": "markdown",
      "metadata": {
        "id": "Vw-8ai9WcVaF"
      },
      "source": [
        "The order of time complexities is as follows:\\\n",
        "repeated traversing >> numpy.median() > sort().\n"
      ]
    },
    {
      "cell_type": "markdown",
      "metadata": {
        "id": "vPl_C3Suoq-W"
      },
      "source": [
        "**4. What is the gradient of the following function with respect to x and y?\\\n",
        "$x^2$$y$ $+$ $y^3$$sin$($x)$**\n"
      ]
    },
    {
      "cell_type": "markdown",
      "metadata": {
        "id": "ZeDMs1bSquxA"
      },
      "source": [
        "wrt $x$, the gradient is $2xy$ $+$ $y^3$$cos(x)$\\\n",
        "wrt $y$, the gradient is $x^2$ $+$ $3y^2$$sin(x)$"
      ]
    },
    {
      "cell_type": "markdown",
      "metadata": {
        "id": "Qwmn3fYqrSji"
      },
      "source": [
        "**5. Use JAX to confirm the gradient evaluated by your method matches the analytical solution corresponding to a few random values of x and y**"
      ]
    },
    {
      "cell_type": "code",
      "execution_count": null,
      "metadata": {
        "colab": {
          "base_uri": "https://localhost:8080/"
        },
        "id": "WQ7JWYI3wySp",
        "outputId": "bd35771b-905d-4a82-d1f7-a83ab6e0ab4c"
      },
      "outputs": [
        {
          "name": "stderr",
          "output_type": "stream",
          "text": [
            "WARNING:jax._src.lib.xla_bridge:No GPU/TPU found, falling back to CPU. (Set TF_CPP_MIN_LOG_LEVEL=0 and rerun for more info.)\n"
          ]
        },
        {
          "name": "stdout",
          "output_type": "stream",
          "text": [
            "7.5 0.59\n",
            "wrt x- JAX:  8.921191215515137  manual:  8.921192169189453\n",
            "wrt y- JAX:  57.22955322265625  manual:  57.22955322265625\n",
            "7.04 3.06\n",
            "wrt x- JAX:  63.916019439697266  manual:  63.916019439697266\n",
            "wrt y- JAX:  68.8489990234375  manual:  68.8489990234375\n",
            "1.33 0.12\n",
            "wrt x- JAX:  0.3196120858192444  manual:  0.3196120858192444\n",
            "wrt y- JAX:  1.8108536005020142  manual:  1.8108536005020142\n",
            "1.38 2.68\n",
            "wrt x- JAX:  11.047164916992188  manual:  11.047164916992188\n",
            "wrt y- JAX:  23.060596466064453  manual:  23.06059455871582\n",
            "1.9 4.9\n",
            "wrt x- JAX:  -19.414690017700195  manual:  -19.414690017700195\n",
            "wrt y- JAX:  71.7719955444336  manual:  71.7719955444336\n"
          ]
        }
      ],
      "source": [
        "def f(x, y):\n",
        "  return x**2*y + y**3*jnp.sin(x)\n",
        "\n",
        "# manual derivatives\n",
        "def fx(x, y):\n",
        "  return 2*x*y + y**3*jnp.cos(x)\n",
        "def fy(x, y):\n",
        "  return x**2 + 3*y**2*jnp.sin(x)\n",
        "\n",
        "\n",
        "df_dx = grad(f, argnums=0)\n",
        "df_dy = grad(f, argnums=1)\n",
        "for i in range(5):\n",
        "  x = round(rm.uniform(0.0,10.0),2)\n",
        "  y = round(rm.uniform(0.0,10.0),2)\n",
        "  print(x,y)\n",
        "  print(\"wrt x- JAX: \",float(df_dx(x, y)),\" manual: \",float(fx(x,y)))\n",
        "  print(\"wrt y- JAX: \",float(df_dy(x, y)),\" manual: \",float(fy(x,y)))"
      ]
    },
    {
      "cell_type": "markdown",
      "metadata": {
        "id": "c7xJcwxevSfW"
      },
      "source": [
        "**6. Use sympy to confirm that you obtain the same gradient analytically.**"
      ]
    },
    {
      "cell_type": "code",
      "execution_count": null,
      "metadata": {
        "colab": {
          "base_uri": "https://localhost:8080/"
        },
        "id": "SFIonuL2vYPB",
        "outputId": "b287ccae-5491-4ec3-9e3c-ee1b12e9f6b8"
      },
      "outputs": [
        {
          "name": "stdout",
          "output_type": "stream",
          "text": [
            "2*x*y + y**3*cos(x)\n",
            "x**2 + 3*y**2*sin(x)\n"
          ]
        }
      ],
      "source": [
        "x, y = smp.symbols('x y', real = True)\n",
        "f = x**2*y + y**3*smp.sin(x)\n",
        "\n",
        "dfdx = smp.diff(f, x)\n",
        "dfdy = smp.diff(f, y)\n",
        "print(dfdx)\n",
        "print(dfdy)"
      ]
    },
    {
      "cell_type": "markdown",
      "metadata": {
        "id": "aZSXYAr-H62S"
      },
      "source": [
        "**7. Create a Python nested dictionary to represent hierarchical information. We want to store record of students and their marks.** "
      ]
    },
    {
      "cell_type": "code",
      "execution_count": null,
      "metadata": {
        "colab": {
          "base_uri": "https://localhost:8080/"
        },
        "id": "TXHrM2GoIYX4",
        "outputId": "7c63d8c4-7cd4-4904-fe82-af7fc62b116a"
      },
      "outputs": [
        {
          "name": "stdout",
          "output_type": "stream",
          "text": [
            "{'Branch 1': {}, 'Branch 2': {'Roll Number :3': {'Name': 'P', 'Marks': {'Maths': 80, 'English': 70, 'Science': 90}}}}\n"
          ]
        }
      ],
      "source": [
        "college = {}\n",
        "college[2022] = {'Branch 1':{}, 'Branch 2':{}}\n",
        "college[2023] = {'Branch 1':{}, 'Branch 2':{}}\n",
        "college[2024] = {'Branch 1':{}, 'Branch 2':{}}\n",
        "college[2025] = {'Branch 1':{}, 'Branch 2':{}}\n",
        "college[2022]['Branch 1'] = {'Roll Number :1':{'Name':'N','Marks':{'Maths':100, 'English':70, 'Science':80}}}\n",
        "college[2022]['Branch 1']['Roll Number: 2'] = {'Name':'A','Marks':{'Maths':90, 'English':80, 'Science':80}}\n",
        "college[2024]['Branch 2'] = {'Roll Number :3':{'Name':'P','Marks':{'Maths':80, 'English':70, 'Science':90}}}\n",
        "college[2025]['Branch 3'] = {}\n",
        "print(college[2024])"
      ]
    },
    {
      "cell_type": "markdown",
      "metadata": {
        "id": "295ufEz5YbKH"
      },
      "source": [
        "**9. Using matplotlib plot the following functions on the domain: x = 0.5 to 100.0 in steps of 0.5.**"
      ]
    },
    {
      "cell_type": "markdown",
      "metadata": {
        "id": "yoHVpUPYflYS"
      },
      "source": [
        "**$y$ $=$ $x$**"
      ]
    },
    {
      "cell_type": "code",
      "execution_count": null,
      "metadata": {
        "colab": {
          "base_uri": "https://localhost:8080/",
          "height": 265
        },
        "id": "pSTt3-0ta1MJ",
        "outputId": "603c356c-7cb4-462b-e0d5-c6e702442171"
      },
      "outputs": [
        {
          "data": {
            "image/png": "[encoded data removed]",
            "text/plain": [
              "<Figure size 432x288 with 1 Axes>"
            ]
          },
          "metadata": {
            "needs_background": "light"
          },
          "output_type": "display_data"
        }
      ],
      "source": [
        "x = np.linspace(0.5,100,200)\n",
        "y1 = x\n",
        "plt.plot(x, y1, '-r', label='y=x')\n",
        "plt.legend(loc='upper left')\n",
        "plt.grid()\n",
        "plt.show()"
      ]
    },
    {
      "cell_type": "markdown",
      "metadata": {
        "id": "jYG15OsDfx4Z"
      },
      "source": [
        "**$y$ $=$ $x^2$, $y$ $=$ $x^3/100$**"
      ]
    },
    {
      "cell_type": "code",
      "execution_count": null,
      "metadata": {
        "colab": {
          "base_uri": "https://localhost:8080/",
          "height": 265
        },
        "id": "wke2TraYeee9",
        "outputId": "2b85fca6-f238-45b7-baf8-3322856da39b"
      },
      "outputs": [
        {
          "data": {
            "image/png": "[encoded data removed]",
            "text/plain": [
              "<Figure size 432x288 with 1 Axes>"
            ]
          },
          "metadata": {
            "needs_background": "light"
          },
          "output_type": "display_data"
        }
      ],
      "source": [
        "y2 = x*x\n",
        "y3 = (x**3)/100\n",
        "plt.plot(x, y2, '-g', label='y=x^2')\n",
        "plt.plot(x, y3, '-c', label='y=x^3/100')\n",
        "plt.legend(loc='upper left')\n",
        "plt.grid()\n",
        "plt.show()"
      ]
    },
    {
      "cell_type": "markdown",
      "metadata": {
        "id": "Xg0EMz2JgH7s"
      },
      "source": [
        "**$y$ $=$ $sin(x)$, $y$ $=$ $sin(x)$$/$$x$, $y$ $=$ $log(x)$**"
      ]
    },
    {
      "cell_type": "code",
      "execution_count": null,
      "metadata": {
        "colab": {
          "base_uri": "https://localhost:8080/",
          "height": 265
        },
        "id": "MlAaL922fHza",
        "outputId": "82d750ed-5d4f-4bac-d4cc-930f44418bdd"
      },
      "outputs": [
        {
          "data": {
            "image/png": "[encoded data removed]",
            "text/plain": [
              "<Figure size 432x288 with 1 Axes>"
            ]
          },
          "metadata": {
            "needs_background": "light"
          },
          "output_type": "display_data"
        }
      ],
      "source": [
        "y4 = np.sin(x)\n",
        "y5 = np.sin(x)/x\n",
        "y6 = np.log10(x)\n",
        "plt.plot(x, y4, '-b', label='y=sin(x)')\n",
        "plt.plot(x, y5, '-m', label='y=sin(x)/x')\n",
        "plt.plot(x, y6, '-k', label='y=log(x)')\n",
        "plt.legend(loc='upper left')\n",
        "plt.grid()\n",
        "plt.show()"
      ]
    },
    {
      "cell_type": "markdown",
      "metadata": {
        "id": "bFH2G0-IgZo0"
      },
      "source": [
        "**$y$ $=$ $e^x$**"
      ]
    },
    {
      "cell_type": "code",
      "execution_count": null,
      "metadata": {
        "colab": {
          "base_uri": "https://localhost:8080/",
          "height": 276
        },
        "id": "kxUVXLGweqtT",
        "outputId": "d9027e3a-92c1-403b-81c0-b6c177d271da"
      },
      "outputs": [
        {
          "data": {
            "image/png": "[encoded data removed]",
            "text/plain": [
              "<Figure size 432x288 with 1 Axes>"
            ]
          },
          "metadata": {
            "needs_background": "light"
          },
          "output_type": "display_data"
        }
      ],
      "source": [
        "y7 = np.exp(x)\n",
        "plt.plot(x, y7, '-y', label='y=e^x')\n",
        "plt.legend(loc='upper left')\n",
        "plt.grid()\n",
        "plt.show()"
      ]
    },
    {
      "cell_type": "markdown",
      "metadata": {
        "id": "RyiP_5I0nAVg"
      },
      "source": [
        "**10. Using numpy generate a matrix of size 20X5 containing random numbers drawn uniformly from the range of 1 to 2. Using Pandas create a dataframe out of this matrix. Name the columns of the dataframe as “a”, “b”, “c”, “d”, “e”. Find the column with the highest standard deviation. Find the row with the lowest mean.**"
      ]
    },
    {
      "cell_type": "code",
      "execution_count": null,
      "metadata": {
        "colab": {
          "base_uri": "https://localhost:8080/"
        },
        "id": "tKe_qKxPnI-Y",
        "outputId": "0fa245d4-bb39-4f65-dd37-77e06166069a"
      },
      "outputs": [
        {
          "name": "stdout",
          "output_type": "stream",
          "text": [
            "           a         b         c         d         e\n",
            "0   1.765161  1.281707  1.110973  1.384773  1.113698\n",
            "1   1.208857  1.441736  1.700238  1.299173  1.172335\n",
            "2   1.934196  1.077069  1.832851  1.158925  1.730521\n",
            "3   1.218908  1.332642  1.898523  1.329670  1.625518\n",
            "4   1.237138  1.303712  1.799605  1.008568  1.021610\n",
            "5   1.404454  1.032273  1.942415  1.941120  1.755121\n",
            "6   1.819296  1.327379  1.467747  1.457106  1.670287\n",
            "7   1.296171  1.222830  1.365311  1.091662  1.749752\n",
            "8   1.667483  1.347974  1.235756  1.435453  1.130263\n",
            "9   1.100380  1.878389  1.395153  1.085191  1.051573\n",
            "10  1.577245  1.080012  1.500885  1.051797  1.078066\n",
            "11  1.837544  1.532323  1.875632  1.975884  1.400529\n",
            "12  1.983235  1.940707  1.630823  1.194797  1.356484\n",
            "13  1.978267  1.833719  1.879637  1.386262  1.083663\n",
            "14  1.215664  1.328327  1.398048  1.466244  1.192797\n",
            "15  1.041578  1.705943  1.392927  1.118827  1.535827\n",
            "16  1.525373  1.818778  1.593447  1.108136  1.537491\n",
            "17  1.601743  1.209002  1.299316  1.757345  1.189312\n",
            "18  1.730913  1.879091  1.388225  1.508024  1.842862\n",
            "19  1.674237  1.965613  1.373075  1.477021  1.449485\n",
            "Column with highest SD:  b\n",
            "Row with lowest mean:  10\n"
          ]
        }
      ],
      "source": [
        "a = []\n",
        "for i in range(20):\n",
        "  col = []\n",
        "  for j in range(5):\n",
        "    col.append(rm.uniform(1.0,2.0))\n",
        "  a.append(col)\n",
        "\n",
        "df = pd.DataFrame(a, columns=['a', 'b', 'c', 'd', 'e'])\n",
        "print(df)\n",
        "\n",
        "# separate dataframe containing standard deviations\n",
        "ar = df.std(axis=0)\n",
        "print(\"Column with highest SD: \", ar.idxmax())\n",
        "\n",
        "#separate dataframe containing means\n",
        "arra = df.mean(axis=1)\n",
        "print(\"Row with lowest mean: \", arra.idxmin())"
      ]
    },
    {
      "cell_type": "markdown",
      "metadata": {
        "id": "SFfbxUDQvRj3"
      },
      "source": [
        "**11. Add a new column to the dataframe called “f” which is the sum of the columns “a”, “b”, “c”, “d”, “e”. Create another column called “g”. The value in the column “g” should be “LT8” if the value in the column “f” is less than 8 and “GT8” otherwise. Find the number of rows in the dataframe where the value in the column “g” is “LT8”. Find the standard deviation of the column “f” for the rows where the value in the column “g” is “LT8” and “GT8” respectively.**"
      ]
    },
    {
      "cell_type": "code",
      "execution_count": null,
      "metadata": {
        "colab": {
          "base_uri": "https://localhost:8080/"
        },
        "id": "gqhZE-kTvWFk",
        "outputId": "96631c43-a2b4-40fe-8e16-ba6245d98779"
      },
      "outputs": [
        {
          "name": "stdout",
          "output_type": "stream",
          "text": [
            "           a         b         c         d         e         f    g\n",
            "0   1.765161  1.281707  1.110973  1.384773  1.113698  6.656312  LT8\n",
            "1   1.208857  1.441736  1.700238  1.299173  1.172335  6.822338  LT8\n",
            "2   1.934196  1.077069  1.832851  1.158925  1.730521  7.733563  LT8\n",
            "3   1.218908  1.332642  1.898523  1.329670  1.625518  7.405262  LT8\n",
            "4   1.237138  1.303712  1.799605  1.008568  1.021610  6.370632  LT8\n",
            "5   1.404454  1.032273  1.942415  1.941120  1.755121  8.075385  GT8\n",
            "6   1.819296  1.327379  1.467747  1.457106  1.670287  7.741814  LT8\n",
            "7   1.296171  1.222830  1.365311  1.091662  1.749752  6.725726  LT8\n",
            "8   1.667483  1.347974  1.235756  1.435453  1.130263  6.816929  LT8\n",
            "9   1.100380  1.878389  1.395153  1.085191  1.051573  6.510687  LT8\n",
            "10  1.577245  1.080012  1.500885  1.051797  1.078066  6.288005  LT8\n",
            "11  1.837544  1.532323  1.875632  1.975884  1.400529  8.621912  GT8\n",
            "12  1.983235  1.940707  1.630823  1.194797  1.356484  8.106046  GT8\n",
            "13  1.978267  1.833719  1.879637  1.386262  1.083663  8.161548  GT8\n",
            "14  1.215664  1.328327  1.398048  1.466244  1.192797  6.601080  LT8\n",
            "15  1.041578  1.705943  1.392927  1.118827  1.535827  6.795102  LT8\n",
            "16  1.525373  1.818778  1.593447  1.108136  1.537491  7.583224  LT8\n",
            "17  1.601743  1.209002  1.299316  1.757345  1.189312  7.056718  LT8\n",
            "18  1.730913  1.879091  1.388225  1.508024  1.842862  8.349116  GT8\n",
            "19  1.674237  1.965613  1.373075  1.477021  1.449485  7.939431  LT8\n"
          ]
        }
      ],
      "source": [
        "pan = df[['a', 'b', 'c', 'd', 'e']].sum(axis=1)\n",
        "df['f'] = pan\n",
        "\n",
        "df.loc[df['f'] < 8, 'g'] = 'LT8'\n",
        "df.loc[df['f'] >= 8, 'g'] = 'GT8'\n",
        "\n",
        "print(df)"
      ]
    },
    {
      "cell_type": "markdown",
      "metadata": {
        "id": "YAisNbL8fd6J"
      },
      "source": [
        "**12. Write a small piece of code to explain broadcasting in numpy.**"
      ]
    },
    {
      "cell_type": "code",
      "execution_count": null,
      "metadata": {
        "colab": {
          "base_uri": "https://localhost:8080/"
        },
        "id": "KNiyxypnmzL0",
        "outputId": "f3a142fd-8a24-43dc-d978-6d16fb31171a"
      },
      "outputs": [
        {
          "name": "stdout",
          "output_type": "stream",
          "text": [
            "[[21. 32. 43.]\n",
            " [11. 22. 33.]]\n"
          ]
        }
      ],
      "source": [
        "a = np.array([[20.0,30.0,40.0],\n",
        "             [10.0,20.0,30.0]])\n",
        "b = np.array([1.0,2.0,3.0])\n",
        "\n",
        "print(a+b)"
      ]
    },
    {
      "cell_type": "markdown",
      "metadata": {
        "id": "Tm0Jr0Z_mxiz"
      },
      "source": [
        "a.shape is (2,3) and b.shape is (1,3). b[0, : ] is broadcast to its other row to make the shapes identical for addition. "
      ]
    }
  ],
  "metadata": {
    "colab": {
      "provenance": []
    },
    "kernelspec": {
      "display_name": "Python 3",
      "name": "python3"
    },
    "language_info": {
      "name": "python"
    }
  },
  "nbformat": 4,
  "nbformat_minor": 0
}
